{
 "cells": [
  {
   "cell_type": "code",
   "execution_count": 143,
   "id": "3e18c50d",
   "metadata": {},
   "outputs": [],
   "source": [
    "#TOPIC: Python Basics Variable"
   ]
  },
  {
   "cell_type": "code",
   "execution_count": 41,
   "id": "35b4a99c",
   "metadata": {},
   "outputs": [],
   "source": [
    "'''1. Declare two variables, `x` and `y`, and assign them integer values. \n",
    "Swap the values of these variables without using any temporary variable.'''"
   ]
  },
  {
   "cell_type": "code",
   "execution_count": 1,
   "id": "e29ae64c",
   "metadata": {},
   "outputs": [],
   "source": [
    "#initialization of variables x and y with integer values\n",
    "x=1\n",
    "y=2\n",
    "\n",
    "#swapping the values of variables without using any temporary variable\n",
    "x , y = y , x"
   ]
  },
  {
   "cell_type": "code",
   "execution_count": 2,
   "id": "cca72f84",
   "metadata": {},
   "outputs": [
    {
     "data": {
      "text/plain": [
       "2"
      ]
     },
     "execution_count": 2,
     "metadata": {},
     "output_type": "execute_result"
    }
   ],
   "source": [
    "x #print the final value of x"
   ]
  },
  {
   "cell_type": "code",
   "execution_count": 3,
   "id": "60d8edfb",
   "metadata": {},
   "outputs": [
    {
     "data": {
      "text/plain": [
       "1"
      ]
     },
     "execution_count": 3,
     "metadata": {},
     "output_type": "execute_result"
    }
   ],
   "source": [
    "y #print the final value of y"
   ]
  },
  {
   "cell_type": "code",
   "execution_count": 45,
   "id": "2e60200e",
   "metadata": {
    "scrolled": true
   },
   "outputs": [
    {
     "data": {
      "text/plain": [
       "'2. Create a program that calculates the area of a rectangle. \\nTake the length and width as inputs from the user and store them in variables. \\nCalculate and display the area.'"
      ]
     },
     "execution_count": 45,
     "metadata": {},
     "output_type": "execute_result"
    }
   ],
   "source": [
    "'''2. Create a program that calculates the area of a rectangle. \n",
    "Take the length and width as inputs from the user and store them in variables. \n",
    "Calculate and display the area.'''"
   ]
  },
  {
   "cell_type": "code",
   "execution_count": 4,
   "id": "91398381",
   "metadata": {},
   "outputs": [
    {
     "name": "stdout",
     "output_type": "stream",
     "text": [
      "10\n"
     ]
    }
   ],
   "source": [
    "#Lets take the length of rectangle as variable length and take the input from user\n",
    "#we are using input function to take input from user and typecasting the string into integer to do calculation\n",
    "length = int(input())"
   ]
  },
  {
   "cell_type": "code",
   "execution_count": 5,
   "id": "a4f32b75",
   "metadata": {},
   "outputs": [
    {
     "name": "stdout",
     "output_type": "stream",
     "text": [
      "20\n"
     ]
    }
   ],
   "source": [
    "#Lets take the width of rectangle as variable width and take the input from user\n",
    "#we are using input function to take input from user and typecasting the string into integer to do calculation\n",
    "width = int(input()) "
   ]
  },
  {
   "cell_type": "code",
   "execution_count": 6,
   "id": "ff82c7c6",
   "metadata": {},
   "outputs": [
    {
     "data": {
      "text/plain": [
       "200"
      ]
     },
     "execution_count": 6,
     "metadata": {},
     "output_type": "execute_result"
    }
   ],
   "source": [
    "#Now you need a variable to calculate area of rectangle and store result in a variable \n",
    "#Formula for area of rectangle as follows\n",
    "area = length * width\n",
    "\n",
    "#print the result of area of rectangle\n",
    "area"
   ]
  },
  {
   "cell_type": "code",
   "execution_count": 54,
   "id": "e37174a8",
   "metadata": {},
   "outputs": [
    {
     "data": {
      "text/plain": [
       "'3. Write a Python program that converts temperatures from Celsius to Fahrenheit. \\nTake the temperature in Celsius as input, store it in a variable, convert it to Fahrenheit, and display the result.'"
      ]
     },
     "execution_count": 54,
     "metadata": {},
     "output_type": "execute_result"
    }
   ],
   "source": [
    "'''3. Write a Python program that converts temperatures from Celsius to Fahrenheit. \n",
    "Take the temperature in Celsius as input, store it in a variable, convert it to Fahrenheit, and display the result.'''"
   ]
  },
  {
   "cell_type": "code",
   "execution_count": 7,
   "id": "dc72fc4f",
   "metadata": {},
   "outputs": [
    {
     "name": "stdout",
     "output_type": "stream",
     "text": [
      "96\n"
     ]
    }
   ],
   "source": [
    "#Taking the temprature from user using input function and typecasting it into float for calculation \n",
    "#and assigning it to celsius variable\n",
    "celsius = float(input())"
   ]
  },
  {
   "cell_type": "code",
   "execution_count": 8,
   "id": "eeb0118b",
   "metadata": {},
   "outputs": [
    {
     "data": {
      "text/plain": [
       "204.8"
      ]
     },
     "execution_count": 8,
     "metadata": {},
     "output_type": "execute_result"
    }
   ],
   "source": [
    "#decalartion of vriable fahenheit and using a formulae for caluclating celsius to farenheit\n",
    "fahrenheit =  9/5 * celsius + 32\n",
    "\n",
    "#print the converted value of celsius into fahrenheit\n",
    "fahrenheit"
   ]
  },
  {
   "cell_type": "code",
   "execution_count": 87,
   "id": "6facd75f",
   "metadata": {},
   "outputs": [],
   "source": [
    "################################################### Topic 2 ###################################################################"
   ]
  },
  {
   "cell_type": "code",
   "execution_count": 74,
   "id": "335289b5",
   "metadata": {},
   "outputs": [],
   "source": [
    "#TOPIC: String Based Questions"
   ]
  },
  {
   "cell_type": "code",
   "execution_count": 75,
   "id": "f23ddbfa",
   "metadata": {},
   "outputs": [
    {
     "data": {
      "text/plain": [
       "'1. Write a Python program that takes a string as input and prints the length of the string.'"
      ]
     },
     "execution_count": 75,
     "metadata": {},
     "output_type": "execute_result"
    }
   ],
   "source": [
    "'''1. Write a Python program that takes a string as input and prints the length of the string.'''"
   ]
  },
  {
   "cell_type": "code",
   "execution_count": 9,
   "id": "9fffe986",
   "metadata": {},
   "outputs": [
    {
     "name": "stdout",
     "output_type": "stream",
     "text": [
      "saurabh\n"
     ]
    }
   ],
   "source": [
    "#decalration of the variable str to store the string value inserted by user by using input() function\n",
    "\n",
    "#please input the string\n",
    "str = input()"
   ]
  },
  {
   "cell_type": "code",
   "execution_count": 10,
   "id": "e31b5664",
   "metadata": {},
   "outputs": [
    {
     "data": {
      "text/plain": [
       "7"
      ]
     },
     "execution_count": 10,
     "metadata": {},
     "output_type": "execute_result"
    }
   ],
   "source": [
    "#using len function to print the length of the string\n",
    "len(str)"
   ]
  },
  {
   "cell_type": "code",
   "execution_count": 86,
   "id": "13bbcc8e",
   "metadata": {},
   "outputs": [
    {
     "data": {
      "text/plain": [
       "'2. Create a program that takes a sentence from the user and counts the number of vowels (a, e, i, o, u) in the string.'"
      ]
     },
     "execution_count": 86,
     "metadata": {},
     "output_type": "execute_result"
    }
   ],
   "source": [
    "'''2. Create a program that takes a sentence from the user and counts the number of vowels (a, e, i, o, u) in the string.'''"
   ]
  },
  {
   "cell_type": "code",
   "execution_count": 11,
   "id": "e1e9638f",
   "metadata": {},
   "outputs": [
    {
     "name": "stdout",
     "output_type": "stream",
     "text": [
      "hello saurabh\n"
     ]
    }
   ],
   "source": [
    "#input the string and store in the variable str1\n",
    "str1=input()"
   ]
  },
  {
   "cell_type": "code",
   "execution_count": 12,
   "id": "5605414f",
   "metadata": {},
   "outputs": [
    {
     "data": {
      "text/plain": [
       "5"
      ]
     },
     "execution_count": 12,
     "metadata": {},
     "output_type": "execute_result"
    }
   ],
   "source": [
    "#to print the count of vowels in string count function is used and done the sumation of it get expected result\n",
    "str1.count('a') + str1.count('e') + str1.count('i') + str1.count('o') + str1.count('u') + str1.count('A') + str1.count('E') + str1.count('I') + str1.count('O') + str1.count('U')"
   ]
  },
  {
   "cell_type": "code",
   "execution_count": 109,
   "id": "14d05af7",
   "metadata": {},
   "outputs": [
    {
     "data": {
      "text/plain": [
       "'3. Given a string, reverse the order of characters using string slicing and print the reversed string.'"
      ]
     },
     "execution_count": 109,
     "metadata": {},
     "output_type": "execute_result"
    }
   ],
   "source": [
    "'''3. Given a string, reverse the order of characters using string slicing and print the reversed string.'''"
   ]
  },
  {
   "cell_type": "code",
   "execution_count": 13,
   "id": "3be347f5",
   "metadata": {},
   "outputs": [],
   "source": [
    "#Given string stored in variable\n",
    "str2='saurabh'"
   ]
  },
  {
   "cell_type": "code",
   "execution_count": 14,
   "id": "b02e1664",
   "metadata": {},
   "outputs": [
    {
     "data": {
      "text/plain": [
       "'hbaruas'"
      ]
     },
     "execution_count": 14,
     "metadata": {},
     "output_type": "execute_result"
    }
   ],
   "source": [
    "#logic to reverse string using slicing ad print the result\n",
    "str2[::-1]"
   ]
  },
  {
   "cell_type": "code",
   "execution_count": 117,
   "id": "e3aa911f",
   "metadata": {},
   "outputs": [
    {
     "data": {
      "text/plain": [
       "'4. Write a program that takes a string as input and checks if it is a palindrome (reads the same forwards and backwards).'"
      ]
     },
     "execution_count": 117,
     "metadata": {},
     "output_type": "execute_result"
    }
   ],
   "source": [
    "'''4. Write a program that takes a string as input and checks if it is a palindrome (reads the same forwards and backwards).'''"
   ]
  },
  {
   "cell_type": "code",
   "execution_count": 15,
   "id": "387855c7",
   "metadata": {},
   "outputs": [
    {
     "name": "stdout",
     "output_type": "stream",
     "text": [
      "saurabh\n"
     ]
    }
   ],
   "source": [
    "#input the string from user and store it in the str3 variable\n",
    "str3=(input())"
   ]
  },
  {
   "cell_type": "code",
   "execution_count": 17,
   "id": "a919a115",
   "metadata": {},
   "outputs": [],
   "source": [
    "#reverse the string and store it into a variable str4\n",
    "str4=str3[::-1]"
   ]
  },
  {
   "cell_type": "code",
   "execution_count": 18,
   "id": "ae2c9fb1",
   "metadata": {},
   "outputs": [
    {
     "data": {
      "text/plain": [
       "False"
      ]
     },
     "execution_count": 18,
     "metadata": {},
     "output_type": "execute_result"
    }
   ],
   "source": [
    "#taken two strings reverse and orignal string to compare that its palindrome or not using equal to comparison operator\n",
    "#logic to check the string is palidrome or or not\n",
    "str3==str4"
   ]
  },
  {
   "cell_type": "code",
   "execution_count": 132,
   "id": "52cafb2b",
   "metadata": {},
   "outputs": [
    {
     "data": {
      "text/plain": [
       "'5. Create a program that takes a string as input and removes all the spaces from it. Print the modified string without spaces.'"
      ]
     },
     "execution_count": 132,
     "metadata": {},
     "output_type": "execute_result"
    }
   ],
   "source": [
    "'''5. Create a program that takes a string as input and removes all the spaces from it. Print the modified string without spaces.'''"
   ]
  },
  {
   "cell_type": "code",
   "execution_count": 19,
   "id": "fa089ef3",
   "metadata": {},
   "outputs": [
    {
     "name": "stdout",
     "output_type": "stream",
     "text": [
      "hello saurabh\n"
     ]
    }
   ],
   "source": [
    "#input string and store it in variable \n",
    "str5=input()"
   ]
  },
  {
   "cell_type": "code",
   "execution_count": 20,
   "id": "3737a957",
   "metadata": {},
   "outputs": [
    {
     "data": {
      "text/plain": [
       "'hellosaurabh'"
      ]
     },
     "execution_count": 20,
     "metadata": {},
     "output_type": "execute_result"
    }
   ],
   "source": [
    "#to remove the spaces in string relace string function is used\n",
    "str5.replace(\" \",\"\")"
   ]
  },
  {
   "cell_type": "code",
   "execution_count": null,
   "id": "ca9a83dc",
   "metadata": {},
   "outputs": [],
   "source": []
  }
 ],
 "metadata": {
  "kernelspec": {
   "display_name": "Python 3 (ipykernel)",
   "language": "python",
   "name": "python3"
  },
  "language_info": {
   "codemirror_mode": {
    "name": "ipython",
    "version": 3
   },
   "file_extension": ".py",
   "mimetype": "text/x-python",
   "name": "python",
   "nbconvert_exporter": "python",
   "pygments_lexer": "ipython3",
   "version": "3.9.12"
  }
 },
 "nbformat": 4,
 "nbformat_minor": 5
}
